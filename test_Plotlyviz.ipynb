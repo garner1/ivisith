{
 "cells": [
  {
   "cell_type": "code",
   "execution_count": 2,
   "metadata": {},
   "outputs": [],
   "source": [
    "%load_ext autoreload\n",
    "%autoreload 2\n",
    "%matplotlib inline\n",
    "\n",
    "# Necessary imports\n",
    "\n",
    "import sklearn\n",
    "from sklearn import datasets\n",
    "\n",
    "import kmapper as km\n",
    "from kmapper.plotlyviz import plotlyviz"
   ]
  },
  {
   "cell_type": "code",
   "execution_count": 3,
   "metadata": {},
   "outputs": [],
   "source": [
    "data, labels = datasets.make_circles(n_samples=5000, noise=0.05, factor=0.3)\n",
    "\n",
    "# Initialize\n",
    "mapper = km.KeplerMapper(verbose=0)\n",
    "\n",
    "# Fit to and transform the data\n",
    "lens = mapper.fit_transform(data, projection=[0])\n",
    "\n",
    "# Create dictionary called 'simplicial_complex' with nodes, edges and meta-information\n",
    "simplicial_complex = mapper.map(lens, X=data,\n",
    "                                cover=km.Cover(n_cubes=20, perc_overlap=0.1))"
   ]
  },
  {
   "cell_type": "code",
   "execution_count": 4,
   "metadata": {},
   "outputs": [
    {
     "data": {
      "application/vnd.jupyter.widget-view+json": {
       "model_id": "eb4e4a87ac56488d8eb20917c98115c9",
       "version_major": 2,
       "version_minor": 0
      },
      "text/plain": [
       "RmlndXJlV2lkZ2V0KHsKICAgICdkYXRhJzogW3snaG92ZXJpbmZvJzogJ25vbmUnLAogICAgICAgICAgICAgICdsaW5lJzogeydjb2xvcic6ICdyZ2IoMTgwLDE4MCwxODApJywgJ3dpZHRoJzrigKY=\n"
      ]
     },
     "metadata": {},
     "output_type": "display_data"
    }
   ],
   "source": [
    "plotlyviz(simplicial_complex, title=\"Basic plot\") "
   ]
  },
  {
   "cell_type": "code",
   "execution_count": 5,
   "metadata": {},
   "outputs": [
    {
     "data": {
      "application/vnd.jupyter.widget-view+json": {
       "model_id": "f32fa748c7b444419c0b11928cfaa3ae",
       "version_major": 2,
       "version_minor": 0
      },
      "text/plain": [
       "VkJveChjaGlsZHJlbj0oSEJveChjaGlsZHJlbj0oRmlndXJlV2lkZ2V0KHsKICAgICdkYXRhJzogW3snaG92ZXJpbmZvJzogJ25vbmUnLAogICAgICAgICAgICAgICdsaW5lJzogeydjb2xvcifigKY=\n"
      ]
     },
     "metadata": {},
     "output_type": "display_data"
    }
   ],
   "source": [
    "plotlyviz(simplicial_complex, title=\"Dashboard plot\", dashboard=True)"
   ]
  },
  {
   "cell_type": "code",
   "execution_count": 6,
   "metadata": {},
   "outputs": [
    {
     "data": {
      "application/vnd.jupyter.widget-view+json": {
       "model_id": "3bb9a46ef26543c884610445b4735682",
       "version_major": 2,
       "version_minor": 0
      },
      "text/plain": [
       "VkJveChjaGlsZHJlbj0oRmlndXJlV2lkZ2V0KHsKICAgICdkYXRhJzogW3snaG92ZXJpbmZvJzogJ25vbmUnLAogICAgICAgICAgICAgICdsaW5lJzogeydjb2xvcic6ICdyZ2IoMTgwLDE4MCzigKY=\n"
      ]
     },
     "metadata": {},
     "output_type": "display_data"
    }
   ],
   "source": [
    "plotlyviz(simplicial_complex, title=\"Dashboard plot\", graph_data=True)"
   ]
  },
  {
   "cell_type": "code",
   "execution_count": 7,
   "metadata": {},
   "outputs": [],
   "source": [
    "pl_matter = [[0.0, 'rgb(253, 237, 176)'], #derived from cmocean.cm.matter https://matplotlib.org/cmocean/\n",
    "             [0.1, 'rgb(250, 202, 143)'],\n",
    "             [0.2, 'rgb(245, 166, 114)'],\n",
    "             [0.3, 'rgb(238, 132, 93)'],\n",
    "             [0.4, 'rgb(226, 97, 82)'],\n",
    "             [0.5, 'rgb(206, 67, 86)'],\n",
    "             [0.6, 'rgb(179, 46, 94)'],\n",
    "             [0.7, 'rgb(147, 31, 99)'],\n",
    "             [0.8, 'rgb(114, 25, 95)'],\n",
    "             [0.9, 'rgb(79, 21, 82)'],\n",
    "             [1.0, 'rgb(47, 15, 61)']]\n",
    "\n",
    "pl_brewer = [[0.0, '#006837'], #from green to red  http://colorbrewer2.org/#type=diverging&scheme=RdYlGn&n=11\n",
    "             [0.1, '#1a9850'],\n",
    "             [0.2, '#66bd63'],\n",
    "             [0.3, '#a6d96a'],\n",
    "             [0.4, '#d9ef8b'],\n",
    "             [0.5, '#ffffbf'],\n",
    "             [0.6, '#fee08b'],\n",
    "             [0.7, '#fdae61'],\n",
    "             [0.8, '#f46d43'],\n",
    "             [0.9, '#d73027'],\n",
    "             [1.0, '#a50026']]\n",
    "\n",
    "pl_jet = [[0.0, 'rgb(0, 0, 127)'], #derived for matplotlib jet\n",
    "          [0.1, 'rgb(0, 0, 241)'],\n",
    "          [0.2, 'rgb(0, 76, 255)'],\n",
    "          [0.3, 'rgb(0, 176, 255)'],\n",
    "          [0.4, 'rgb(41, 255, 205)'],\n",
    "          [0.5, 'rgb(124, 255, 121)'],\n",
    "          [0.6, 'rgb(205, 255, 41)'],\n",
    "          [0.7, 'rgb(255, 196, 0)'],\n",
    "          [0.8, 'rgb(255, 103, 0)'],\n",
    "          [0.9, 'rgb(241, 7, 0)'],\n",
    "          [1.0, 'rgb(127, 0, 0)']]"
   ]
  },
  {
   "cell_type": "code",
   "execution_count": 8,
   "metadata": {},
   "outputs": [
    {
     "data": {
      "application/vnd.jupyter.widget-view+json": {
       "model_id": "ee2af14c13c345b4ba4ce57b6e7301af",
       "version_major": 2,
       "version_minor": 0
      },
      "text/plain": [
       "VkJveChjaGlsZHJlbj0oSEJveChjaGlsZHJlbj0oRmlndXJlV2lkZ2V0KHsKICAgICdkYXRhJzogW3snaG92ZXJpbmZvJzogJ25vbmUnLAogICAgICAgICAgICAgICdsaW5lJzogeydjb2xvcifigKY=\n"
      ]
     },
     "metadata": {},
     "output_type": "display_data"
    }
   ],
   "source": [
    "plotlyviz(simplicial_complex, colorscale=pl_matter, title=\"Dashboard plot\", dashboard=True)"
   ]
  },
  {
   "cell_type": "code",
   "execution_count": 9,
   "metadata": {},
   "outputs": [
    {
     "data": {
      "application/vnd.jupyter.widget-view+json": {
       "model_id": "91df86a286bd48d9abd6bebb079c4c6f",
       "version_major": 2,
       "version_minor": 0
      },
      "text/plain": [
       "RmlndXJlV2lkZ2V0KHsKICAgICdkYXRhJzogW3snaG92ZXJpbmZvJzogJ25vbmUnLAogICAgICAgICAgICAgICdsaW5lJzogeydjb2xvcic6ICdyZ2IoMTgwLDE4MCwxODApJywgJ3dpZHRoJzrigKY=\n"
      ]
     },
     "metadata": {},
     "output_type": "display_data"
    }
   ],
   "source": [
    "plotlyviz(simplicial_complex, graph_layout='fr', title='Kepler-Mapper graph for circles dataset with<br> Fruchtenberg-Reingold layout')\n"
   ]
  },
  {
   "cell_type": "code",
   "execution_count": 10,
   "metadata": {},
   "outputs": [
    {
     "name": "stderr",
     "output_type": "stream",
     "text": [
      "[autoreload of psutil._pslinux failed: Traceback (most recent call last):\n",
      "  File \"/home/garner1/anaconda2/lib/python2.7/site-packages/IPython/extensions/autoreload.py\", line 247, in check\n",
      "    superreload(m, reload, self.old_objects)\n",
      "ImportError: cannot import name open_binary\n",
      "]\n",
      "[autoreload of psutil failed: Traceback (most recent call last):\n",
      "  File \"/home/garner1/anaconda2/lib/python2.7/site-packages/IPython/extensions/autoreload.py\", line 247, in check\n",
      "    superreload(m, reload, self.old_objects)\n",
      "ImportError: cannot import name _common\n",
      "]\n"
     ]
    },
    {
     "ename": "ValueError",
     "evalue": "\nThe orca executable is required in order to export figures as static images,\nbut the executable that was found at '/usr/bin/orca'\ndoes not seem to be a valid plotly orca executable. Please refer to the end of\nthis message for details on what went wrong.\n\nIf you haven't installed orca yet, you can do so using conda as follows:\n\n    $ conda install -c plotly plotly-orca\n\nAlternatively, see other installation methods in the orca project README at\nhttps://github.com/plotly/orca.\n\nAfter installation is complete, no further configuration should be needed. \n\nIf you have installed orca, then for some reason plotly.py was unable to\nlocate it. In this case, set the `plotly.io.orca.config.executable`\nproperty to the full path of your orca executable. For example:\n\n    >>> plotly.io.orca.config.executable = '/path/to/orca'\n\nAfter updating this executable property, try the export operation again.\nIf it is successful then you may want to save this configuration so that it\nwill be applied automatically in future sessions. You can do this as follows:\n\n    >>> plotly.io.orca.config.save() \n\nIf you're still having trouble, feel free to ask for help on the forums at\nhttps://community.plot.ly/c/api/python\n\nThe error encountered is that unexpected output was returned by the command\n    $ /usr/bin/orca --help\n\nUsage: orca [-h] [-v] [-r] [-s] [-l] [-e OPTION] [-d OPTION] [-p NAME]\n            [-u DIR] [--debug-file FILE] [--debug]\n\nOptional arguments:\n  -h, --help                   Show this help message and exit\n  -v, --version                3.28.0\n  -r, --replace                Replace a currently running instance of this\n                               screen reader\n  -s, --setup                  Set up user preferences (GUI version)\n  -l, --list-apps              Print the known running applications\n  -e OPTION, --enable OPTION   Force use of option\n  -d OPTION, --disable OPTION  Prevent use of option\n  -p NAME, --profile NAME      Load profile\n  -u DIR, --user-prefs DIR     Use alternate directory for user preferences\n  --debug-file FILE            Send debug output to the specified file\n  --debug                      Send debug output to debug-YYYY-MM-DD-\n                               HH:MM:SS.out\n\nReport bugs to orca-list@gnome.org.\n\n",
     "output_type": "error",
     "traceback": [
      "\u001b[0;31m\u001b[0m",
      "\u001b[0;31mValueError\u001b[0mTraceback (most recent call last)",
      "\u001b[0;32m<ipython-input-10-c4575aa15ad4>\u001b[0m in \u001b[0;36m<module>\u001b[0;34m()\u001b[0m\n\u001b[0;32m----> 1\u001b[0;31m \u001b[0mplotlyviz\u001b[0m\u001b[0;34m(\u001b[0m\u001b[0msimplicial_complex\u001b[0m\u001b[0;34m,\u001b[0m \u001b[0mcolorscale\u001b[0m\u001b[0;34m=\u001b[0m\u001b[0mpl_matter\u001b[0m\u001b[0;34m,\u001b[0m \u001b[0mtitle\u001b[0m\u001b[0;34m=\u001b[0m\u001b[0;34m\"Dashboard plot\"\u001b[0m\u001b[0;34m,\u001b[0m \u001b[0mfilename\u001b[0m\u001b[0;34m=\u001b[0m\u001b[0;34m\"my_circles_export.pdf\"\u001b[0m\u001b[0;34m)\u001b[0m\u001b[0;34m\u001b[0m\u001b[0m\n\u001b[0m",
      "\u001b[0;32m/home/garner1/tools/kepler-mapper/kmapper/plotlyviz.pyc\u001b[0m in \u001b[0;36mplotlyviz\u001b[0;34m(scomplex, colorscale, title, graph_layout, color_function, color_function_name, dashboard, graph_data, factor_size, edge_linewidth, node_linecolor, width, height, bgcolor, left, bottom, summary_height, summary_width, summary_left, summary_right, hist_left, hist_right, member_textbox_width, filename)\u001b[0m\n\u001b[1;32m    191\u001b[0m \u001b[0;34m\u001b[0m\u001b[0m\n\u001b[1;32m    192\u001b[0m     \u001b[0;32mif\u001b[0m \u001b[0mfilename\u001b[0m\u001b[0;34m:\u001b[0m\u001b[0;34m\u001b[0m\u001b[0m\n\u001b[0;32m--> 193\u001b[0;31m         \u001b[0mpio\u001b[0m\u001b[0;34m.\u001b[0m\u001b[0mwrite_image\u001b[0m\u001b[0;34m(\u001b[0m\u001b[0mresult\u001b[0m\u001b[0;34m,\u001b[0m \u001b[0mfilename\u001b[0m\u001b[0;34m)\u001b[0m\u001b[0;31m#or 'mapper-cat.png'\u001b[0m\u001b[0;34m\u001b[0m\u001b[0m\n\u001b[0m\u001b[1;32m    194\u001b[0m \u001b[0;34m\u001b[0m\u001b[0m\n\u001b[1;32m    195\u001b[0m     \u001b[0;32mreturn\u001b[0m \u001b[0mresult\u001b[0m\u001b[0;34m\u001b[0m\u001b[0m\n",
      "\u001b[0;32m/home/garner1/anaconda2/lib/python2.7/site-packages/plotly/io/_orca.pyc\u001b[0m in \u001b[0;36mwrite_image\u001b[0;34m(fig, file, format, scale, width, height, validate)\u001b[0m\n\u001b[1;32m   1484\u001b[0m                         \u001b[0mwidth\u001b[0m\u001b[0;34m=\u001b[0m\u001b[0mwidth\u001b[0m\u001b[0;34m,\u001b[0m\u001b[0;34m\u001b[0m\u001b[0m\n\u001b[1;32m   1485\u001b[0m                         \u001b[0mheight\u001b[0m\u001b[0;34m=\u001b[0m\u001b[0mheight\u001b[0m\u001b[0;34m,\u001b[0m\u001b[0;34m\u001b[0m\u001b[0m\n\u001b[0;32m-> 1486\u001b[0;31m                         validate=validate)\n\u001b[0m\u001b[1;32m   1487\u001b[0m \u001b[0;34m\u001b[0m\u001b[0m\n\u001b[1;32m   1488\u001b[0m     \u001b[0;31m# Open file\u001b[0m\u001b[0;34m\u001b[0m\u001b[0;34m\u001b[0m\u001b[0m\n",
      "\u001b[0;32m/home/garner1/anaconda2/lib/python2.7/site-packages/plotly/io/_orca.pyc\u001b[0m in \u001b[0;36mto_image\u001b[0;34m(fig, format, width, height, scale, validate)\u001b[0m\n\u001b[1;32m   1266\u001b[0m     \u001b[0;31m# Make sure orca sever is running\u001b[0m\u001b[0;34m\u001b[0m\u001b[0;34m\u001b[0m\u001b[0m\n\u001b[1;32m   1267\u001b[0m     \u001b[0;31m# -------------------------------\u001b[0m\u001b[0;34m\u001b[0m\u001b[0;34m\u001b[0m\u001b[0m\n\u001b[0;32m-> 1268\u001b[0;31m     \u001b[0mensure_server\u001b[0m\u001b[0;34m(\u001b[0m\u001b[0;34m)\u001b[0m\u001b[0;34m\u001b[0m\u001b[0m\n\u001b[0m\u001b[1;32m   1269\u001b[0m \u001b[0;34m\u001b[0m\u001b[0m\n\u001b[1;32m   1270\u001b[0m     \u001b[0;31m# Handle defaults\u001b[0m\u001b[0;34m\u001b[0m\u001b[0;34m\u001b[0m\u001b[0m\n",
      "\u001b[0;32m/home/garner1/anaconda2/lib/python2.7/site-packages/plotly/io/_orca.pyc\u001b[0m in \u001b[0;36mensure_server\u001b[0;34m()\u001b[0m\n\u001b[1;32m   1137\u001b[0m     \u001b[0;31m# Validate orca executable\u001b[0m\u001b[0;34m\u001b[0m\u001b[0;34m\u001b[0m\u001b[0m\n\u001b[1;32m   1138\u001b[0m     \u001b[0;32mif\u001b[0m \u001b[0mstatus\u001b[0m\u001b[0;34m.\u001b[0m\u001b[0mstate\u001b[0m \u001b[0;34m==\u001b[0m \u001b[0;34m'unvalidated'\u001b[0m\u001b[0;34m:\u001b[0m\u001b[0;34m\u001b[0m\u001b[0m\n\u001b[0;32m-> 1139\u001b[0;31m         \u001b[0mvalidate_executable\u001b[0m\u001b[0;34m(\u001b[0m\u001b[0;34m)\u001b[0m\u001b[0;34m\u001b[0m\u001b[0m\n\u001b[0m\u001b[1;32m   1140\u001b[0m \u001b[0;34m\u001b[0m\u001b[0m\n\u001b[1;32m   1141\u001b[0m     \u001b[0;31m# Acquire lock to make sure that we keep the properties of orca_state\u001b[0m\u001b[0;34m\u001b[0m\u001b[0;34m\u001b[0m\u001b[0m\n",
      "\u001b[0;32m/home/garner1/anaconda2/lib/python2.7/site-packages/plotly/io/_orca.pyc\u001b[0m in \u001b[0;36mvalidate_executable\u001b[0;34m()\u001b[0m\n\u001b[1;32m    980\u001b[0m \u001b[0;34m\u001b[0m\u001b[0m\n\u001b[1;32m    981\u001b[0m \u001b[0;34m{\u001b[0m\u001b[0mhelp_result\u001b[0m\u001b[0;34m}\u001b[0m\u001b[0;34m\u001b[0m\u001b[0m\n\u001b[0;32m--> 982\u001b[0;31m \"\"\".format(executable=executable, help_result=help_result))\n\u001b[0m\u001b[1;32m    983\u001b[0m \u001b[0;34m\u001b[0m\u001b[0m\n\u001b[1;32m    984\u001b[0m     \u001b[0;31m# Get orca version\u001b[0m\u001b[0;34m\u001b[0m\u001b[0;34m\u001b[0m\u001b[0m\n",
      "\u001b[0;31mValueError\u001b[0m: \nThe orca executable is required in order to export figures as static images,\nbut the executable that was found at '/usr/bin/orca'\ndoes not seem to be a valid plotly orca executable. Please refer to the end of\nthis message for details on what went wrong.\n\nIf you haven't installed orca yet, you can do so using conda as follows:\n\n    $ conda install -c plotly plotly-orca\n\nAlternatively, see other installation methods in the orca project README at\nhttps://github.com/plotly/orca.\n\nAfter installation is complete, no further configuration should be needed. \n\nIf you have installed orca, then for some reason plotly.py was unable to\nlocate it. In this case, set the `plotly.io.orca.config.executable`\nproperty to the full path of your orca executable. For example:\n\n    >>> plotly.io.orca.config.executable = '/path/to/orca'\n\nAfter updating this executable property, try the export operation again.\nIf it is successful then you may want to save this configuration so that it\nwill be applied automatically in future sessions. You can do this as follows:\n\n    >>> plotly.io.orca.config.save() \n\nIf you're still having trouble, feel free to ask for help on the forums at\nhttps://community.plot.ly/c/api/python\n\nThe error encountered is that unexpected output was returned by the command\n    $ /usr/bin/orca --help\n\nUsage: orca [-h] [-v] [-r] [-s] [-l] [-e OPTION] [-d OPTION] [-p NAME]\n            [-u DIR] [--debug-file FILE] [--debug]\n\nOptional arguments:\n  -h, --help                   Show this help message and exit\n  -v, --version                3.28.0\n  -r, --replace                Replace a currently running instance of this\n                               screen reader\n  -s, --setup                  Set up user preferences (GUI version)\n  -l, --list-apps              Print the known running applications\n  -e OPTION, --enable OPTION   Force use of option\n  -d OPTION, --disable OPTION  Prevent use of option\n  -p NAME, --profile NAME      Load profile\n  -u DIR, --user-prefs DIR     Use alternate directory for user preferences\n  --debug-file FILE            Send debug output to the specified file\n  --debug                      Send debug output to debug-YYYY-MM-DD-\n                               HH:MM:SS.out\n\nReport bugs to orca-list@gnome.org.\n\n"
     ]
    }
   ],
   "source": [
    "plotlyviz(simplicial_complex, colorscale=pl_matter, title=\"Dashboard plot\", filename=\"my_circles_export.pdf\")"
   ]
  }
 ],
 "metadata": {
  "kernelspec": {
   "display_name": "Python 2",
   "language": "python",
   "name": "python2"
  },
  "language_info": {
   "codemirror_mode": {
    "name": "ipython",
    "version": 2
   },
   "file_extension": ".py",
   "mimetype": "text/x-python",
   "name": "python",
   "nbconvert_exporter": "python",
   "pygments_lexer": "ipython2",
   "version": "2.7.14"
  }
 },
 "nbformat": 4,
 "nbformat_minor": 2
}
