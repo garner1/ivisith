{
 "cells": [
  {
   "cell_type": "code",
   "execution_count": 189,
   "metadata": {},
   "outputs": [],
   "source": [
    "import pandas as pd\n",
    "import numpy as np\n",
    "from scipy.linalg import svd\n",
    "from scipy.sparse import csc_matrix,coo_matrix\n",
    "import os.path\n",
    "\n",
    "import matplotlib.pyplot as plt\n",
    "import seaborn as sns; sns.set()"
   ]
  },
  {
   "cell_type": "code",
   "execution_count": 203,
   "metadata": {},
   "outputs": [],
   "source": [
    "def usvd(filename):\n",
    "    if os.path.isfile(filename):\n",
    "        df = pd.read_csv(filename, sep='\\t', header=0, index_col=0) # read the gene X position count-matrix and transpose to have rows<cols\n",
    "        data = df.values\n",
    "        '''rescale observed data to (-1,1) range and output the new matrix z'''\n",
    "        i = np.nonzero(data)[0]\n",
    "        j = np.nonzero(data)[1]\n",
    "        x = data[np.nonzero(data)]\n",
    "        a = x.min()\n",
    "        b = x.max()\n",
    "        x = (x - (a+b)*0.5)/((b-a)*0.5)\n",
    "        z = csc_matrix((x,(i,j)), data.shape).todense()\n",
    "        '''svd'''\n",
    "        u, s, vt = svd(z,check_finite=True,full_matrices=False)\n",
    "        '''truncate svd'''\n",
    "        p = np.count_nonzero(z)*1.0/z.size # probability estimated from data pattern\n",
    "        threshold = 2.02*np.sqrt(p*max(z.shape)) # threshold obtained by usvd paper\n",
    "        ix = np.where( s > threshold )\n",
    "        k = ix[0].max()+1\n",
    "        w = np.dot(u[:,:k], np.dot(np.diag(s[:k]), vt[:k,:]))\n",
    "        '''clean'''\n",
    "        w[w < -1] = -1\n",
    "        w[w > 1] = 1\n",
    "        w = w*(b-a)*0.5+(a+b)*0.5\n",
    "    else:\n",
    "        print \"Data file not found\"\n",
    "    return w, k"
   ]
  },
  {
   "cell_type": "code",
   "execution_count": 204,
   "metadata": {},
   "outputs": [
    {
     "data": {
      "text/plain": [
       "(array([[42.5083681 , 48.96046961, 47.41875174, ..., 52.00493579,\n",
       "         50.68737322, 51.24272873],\n",
       "        [22.55355803, 37.02694064, 33.55586281, ..., 47.82635966,\n",
       "         41.43523429, 43.24008941],\n",
       "        [13.11010923, 15.01144521, 14.49573258, ..., 35.11576794,\n",
       "         18.10623084, 20.97471347],\n",
       "        ...,\n",
       "        [52.14038148, 52.24653367, 52.22083993, ..., 52.39951198,\n",
       "         52.2887975 , 52.31242373],\n",
       "        [51.84312599, 52.60654191, 52.42501   , ..., 52.68990452,\n",
       "         52.77359587, 52.80031728],\n",
       "        [52.31484396, 52.28314414, 52.29032417, ..., 52.39163643,\n",
       "         52.29127998, 52.30593618]]), 2)"
      ]
     },
     "execution_count": 204,
     "metadata": {},
     "output_type": "execute_result"
    }
   ],
   "source": [
    "section = 'P4.3'\n",
    "filename = datadir+section+'.tsv'\n",
    "usvd(filename)"
   ]
  },
  {
   "cell_type": "code",
   "execution_count": 206,
   "metadata": {},
   "outputs": [
    {
     "data": {
      "text/plain": [
       "array([[ 0,  0,  0, ...,  0,  0,  0],\n",
       "       [ 1,  0,  1, ...,  0,  1,  0],\n",
       "       [24, 13, 16, ...,  3, 10,  4],\n",
       "       ...,\n",
       "       [ 0,  0,  0, ...,  0,  0,  0],\n",
       "       [ 0,  0,  0, ...,  0,  0,  0],\n",
       "       [ 0,  0,  0, ...,  0,  0,  0]])"
      ]
     },
     "execution_count": 206,
     "metadata": {},
     "output_type": "execute_result"
    }
   ],
   "source": [
    "df.values"
   ]
  }
 ],
 "metadata": {
  "kernelspec": {
   "display_name": "Python 2",
   "language": "python",
   "name": "python2"
  },
  "language_info": {
   "codemirror_mode": {
    "name": "ipython",
    "version": 2
   },
   "file_extension": ".py",
   "mimetype": "text/x-python",
   "name": "python",
   "nbconvert_exporter": "python",
   "pygments_lexer": "ipython2",
   "version": "2.7.14"
  }
 },
 "nbformat": 4,
 "nbformat_minor": 2
}
