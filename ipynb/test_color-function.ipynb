{
 "cells": [
  {
   "cell_type": "code",
   "execution_count": 89,
   "metadata": {},
   "outputs": [],
   "source": [
    "import matplotlib.pyplot as plt\n",
    "import seaborn as sns; sns.set()\n",
    "from matplotlib.colors import ListedColormap\n",
    "from kmapper import jupyter\n",
    "\n",
    "import numpy as np\n",
    "from scipy.sparse import csc_matrix,coo_matrix\n",
    "from scipy.sparse.linalg import svds, eigs\n",
    "from scipy.linalg import svd\n",
    "from numpy import linalg as LA\n",
    "from sklearn.decomposition import PCA,TruncatedSVD\n",
    "from sklearn.manifold import TSNE\n",
    "from sklearn.cluster import DBSCAN\n",
    "from sklearn.preprocessing import MinMaxScaler\n",
    "import pickle\n",
    "import pandas as pd\n",
    "from random import randint\n",
    "import umap\n",
    "import kmapper as km\n",
    "from kmapper.plotlyviz import plotlyviz\n",
    "import networkx as nx\n",
    "from community import best_partition # this is not part of networkx\n",
    "import os.path\n",
    "\n",
    "def convertNansToZeros(ma):\n",
    "    nan_elements = np.flatnonzero(np.isnan(ma.data))\n",
    "    if len(nan_elements) > 0:\n",
    "        ma.data[nan_elements] = 0\n",
    "    return ma\n",
    "\n",
    "\n",
    "def convertInfsToZeros(ma):\n",
    "    inf_elements = np.flatnonzero(np.isinf(ma.data))\n",
    "    if len(inf_elements) > 0:\n",
    "        ma.data[inf_elements] = 0\n",
    "    return ma\n",
    "\n",
    "def usvd(df):\n",
    "    data = df.fillna(0).values\n",
    "    '''rescale observed data to (-1,1) range and output the new matrix z'''\n",
    "    i = np.nonzero(data)[0]\n",
    "    j = np.nonzero(data)[1]\n",
    "    x = data[np.nonzero(data)]\n",
    "    a = x.min()\n",
    "    b = x.max()\n",
    "    x = (x - (a+b)*0.5)/((b-a)*0.5)\n",
    "    z = csc_matrix((x,(i,j)), data.shape).todense()\n",
    "    '''svd'''\n",
    "    u, s, vt = svd(z,check_finite=True,full_matrices=False)\n",
    "    '''truncate svd'''\n",
    "    p = np.count_nonzero(z)*1.0/z.size # probability estimated from data pattern\n",
    "    threshold = 2.01*np.sqrt(p*max(z.shape)) # threshold obtained by usvd paper\n",
    "    ix = np.where( s > threshold )\n",
    "    k = ix[0].max()+1\n",
    "    w = np.dot(u[:,:k], np.dot(np.diag(s[:k]), vt[:k,:]))\n",
    "    '''clean'''\n",
    "    w[w < -1] = -1\n",
    "    w[w > 1] = 1\n",
    "    w = w*(b-a)*0.5+(a+b)*0.5\n",
    "    new_df = pd.DataFrame(w,index=df.index,columns=df.columns)\n",
    "    return new_df, k"
   ]
  },
  {
   "cell_type": "code",
   "execution_count": 101,
   "metadata": {},
   "outputs": [
    {
     "data": {
      "text/html": [
       "<div>\n",
       "<style scoped>\n",
       "    .dataframe tbody tr th:only-of-type {\n",
       "        vertical-align: middle;\n",
       "    }\n",
       "\n",
       "    .dataframe tbody tr th {\n",
       "        vertical-align: top;\n",
       "    }\n",
       "\n",
       "    .dataframe thead th {\n",
       "        text-align: right;\n",
       "    }\n",
       "</style>\n",
       "<table border=\"1\" class=\"dataframe\">\n",
       "  <thead>\n",
       "    <tr style=\"text-align: right;\">\n",
       "      <th></th>\n",
       "      <th>10x10</th>\n",
       "      <th>11x10</th>\n",
       "      <th>12x10</th>\n",
       "      <th>13x10</th>\n",
       "      <th>14x10</th>\n",
       "      <th>15x10</th>\n",
       "      <th>16x10</th>\n",
       "      <th>17x10</th>\n",
       "      <th>18x10</th>\n",
       "      <th>19x10</th>\n",
       "      <th>...</th>\n",
       "      <th>13x9</th>\n",
       "      <th>14x9</th>\n",
       "      <th>15x9</th>\n",
       "      <th>16x9</th>\n",
       "      <th>17x9</th>\n",
       "      <th>18x9</th>\n",
       "      <th>19x9</th>\n",
       "      <th>20x9</th>\n",
       "      <th>5x9</th>\n",
       "      <th>8x9</th>\n",
       "    </tr>\n",
       "  </thead>\n",
       "  <tbody>\n",
       "    <tr>\n",
       "      <th>SPON1 ENSG00000262655</th>\n",
       "      <td>0</td>\n",
       "      <td>0</td>\n",
       "      <td>0</td>\n",
       "      <td>0</td>\n",
       "      <td>0</td>\n",
       "      <td>0</td>\n",
       "      <td>0</td>\n",
       "      <td>0</td>\n",
       "      <td>0</td>\n",
       "      <td>0</td>\n",
       "      <td>...</td>\n",
       "      <td>0</td>\n",
       "      <td>0</td>\n",
       "      <td>0</td>\n",
       "      <td>0</td>\n",
       "      <td>0</td>\n",
       "      <td>0</td>\n",
       "      <td>0</td>\n",
       "      <td>0</td>\n",
       "      <td>0</td>\n",
       "      <td>0</td>\n",
       "    </tr>\n",
       "    <tr>\n",
       "      <th>TFF3 ENSG00000160180</th>\n",
       "      <td>1</td>\n",
       "      <td>0</td>\n",
       "      <td>0</td>\n",
       "      <td>0</td>\n",
       "      <td>0</td>\n",
       "      <td>0</td>\n",
       "      <td>0</td>\n",
       "      <td>0</td>\n",
       "      <td>0</td>\n",
       "      <td>0</td>\n",
       "      <td>...</td>\n",
       "      <td>0</td>\n",
       "      <td>0</td>\n",
       "      <td>0</td>\n",
       "      <td>0</td>\n",
       "      <td>0</td>\n",
       "      <td>0</td>\n",
       "      <td>0</td>\n",
       "      <td>0</td>\n",
       "      <td>0</td>\n",
       "      <td>0</td>\n",
       "    </tr>\n",
       "  </tbody>\n",
       "</table>\n",
       "<p>2 rows × 302 columns</p>\n",
       "</div>"
      ],
      "text/plain": [
       "                       10x10  11x10  12x10  13x10  14x10  15x10  16x10  17x10  \\\n",
       "SPON1 ENSG00000262655      0      0      0      0      0      0      0      0   \n",
       "TFF3 ENSG00000160180       1      0      0      0      0      0      0      0   \n",
       "\n",
       "                       18x10  19x10 ...   13x9  14x9  15x9  16x9  17x9  18x9  \\\n",
       "SPON1 ENSG00000262655      0      0 ...      0     0     0     0     0     0   \n",
       "TFF3 ENSG00000160180       0      0 ...      0     0     0     0     0     0   \n",
       "\n",
       "                       19x9  20x9  5x9  8x9  \n",
       "SPON1 ENSG00000262655     0     0    0    0  \n",
       "TFF3 ENSG00000160180      0     0    0    0  \n",
       "\n",
       "[2 rows x 302 columns]"
      ]
     },
     "execution_count": 101,
     "metadata": {},
     "output_type": "execute_result"
    }
   ],
   "source": [
    "# %matplotlib\n",
    "datadir = '/home/garner1/Work/dataset/SSF/prostate-twelve/'\n",
    "section = 'P4.3'\n",
    "\n",
    "filename = datadir+section+'.tsv'\n",
    "df = pd.read_csv(filename, sep='\\t', header=0, index_col=0) # read the gene X position count-matrix\n",
    "\n",
    "spatialCoord = [w.split('x') for w in list(df.columns.values)]\n",
    "spatialCoord = [map(int,pairs) for pairs in spatialCoord]\n",
    "\n",
    "i = [s[0] for s in spatialCoord]\n",
    "j = [s[1] for s in spatialCoord]\n",
    "\n",
    "value = [1]*len(i)\n",
    "\n",
    "'''Visualize the sample geometry'''\n",
    "# plt.figure()\n",
    "# mat = coo_matrix((value, (i, j)), [max(i)+1, max(j)+1]).todense()\n",
    "# sns.heatmap(mat, annot=False)\n",
    "\n",
    "# df, k = usvd(df)\n",
    "# print \"The estimated rank of the data is: \"+str(k)\n",
    "\n",
    "dfnorm = df.div( df.sum(axis=0)+1, axis=1 ) #normalize to probabilities the transcriptome at each position\n",
    "data = dfnorm.fillna(0).transpose().values\n",
    "\n",
    "'''Evaluate spatial distance from a point'''\n",
    "# from sklearn.metrics.pairwise import euclidean_distances\n",
    "# spatialCoord = [w.split('x') for w in list(df.columns.values)]\n",
    "# spatialCoord = [map(int,pairs) for pairs in spatialCoord]\n",
    "# X = [[s[0],s[1]] for s in spatialCoord]\n",
    "# origin = [0, 0]\n",
    "# distances = euclidean_distances(X, [origin]) # get distance to origin\n",
    "\n",
    "'''Plot spatial distribution of RC for a given gene'''\n",
    "# for gene in [\"SPON1 \",\"TFF3 \",\"SPINK1 \"]: # leave a space to make unique the name\n",
    "# # for gene in [\"SPON1 \"]: # leave a space to make unique the name\n",
    "#     getGene = df[df.index.str.contains(gene)==True]\n",
    "# getGene\n",
    "\n",
    "df1 = df.filter(like=\"SPON1 \", axis=0)\n",
    "df2 = df.filter(like=\"TFF3 \", axis=0)\n",
    "df3 = df.filter(like=\"SPINK1 \", axis=0)\n",
    "\n",
    "df1 = df1.append(df2, ignore_index=False)\n",
    "df1 = df1.append(df3, ignore_index=False)\n",
    "df1\n",
    "#     spatialCoord = [w.split('x') for w in list(getGene.index.values)]\n",
    "#     spatialCoord = [map(int,pairs) for pairs in spatialCoord]\n",
    "#     i = [s[0] for s in spatialCoord]\n",
    "#     j = [s[1] for s in spatialCoord]\n",
    "\n",
    "#     mat = coo_matrix((getGene.values.ravel(), (i, j)), [max(i)+1, max(j)+1]).todense()"
   ]
  },
  {
   "cell_type": "code",
   "execution_count": 88,
   "metadata": {
    "scrolled": false
   },
   "outputs": [
    {
     "name": "stdout",
     "output_type": "stream",
     "text": [
      "The estimated rank of the data is: 2\n"
     ]
    },
    {
     "data": {
      "application/vnd.jupyter.widget-view+json": {
       "model_id": "39bedb130cf348eca431c5de1ee912fc",
       "version_major": 2,
       "version_minor": 0
      },
      "text/plain": [
       "RmlndXJlV2lkZ2V0KHsKICAgICdkYXRhJzogW3snaG92ZXJpbmZvJzogJ25vbmUnLAogICAgICAgICAgICAgICdsaW5lJzogeydjb2xvcic6ICdyZ2IoMTgwLDE4MCwxODApJywgJ3dpZHRoJzrigKY=\n"
      ]
     },
     "metadata": {},
     "output_type": "display_data"
    },
    {
     "data": {
      "image/png": "[encoded data removed]",
      "text/plain": [
       "<Figure size 432x288 with 2 Axes>"
      ]
     },
     "metadata": {},
     "output_type": "display_data"
    }
   ],
   "source": [
    "'''Initialize'''\n",
    "mapper = km.KeplerMapper(verbose=0)\n",
    "metric = 'euclidean'\n",
    "'''Fit to and transform the data'''\n",
    "n_components = 3\n",
    "random_state = 157\n",
    "projected_data = mapper.fit_transform(data, \n",
    "                                      projection=umap.UMAP(n_neighbors=15,min_dist=0.1,\n",
    "                                                            n_components=n_components,\n",
    "                                                            metric=metric,\n",
    "                                                            random_state=random_state))\n",
    "\n",
    "'''Create dictionary called 'graph' with nodes, edges and meta-information'''\n",
    "nr_cubes = 10\n",
    "graph = mapper.map(projected_data, data,clusterer=DBSCAN(eps=0.5, \n",
    "                                                         min_samples=1, \n",
    "                                                         metric=metric),\n",
    "                   coverer=km.Cover(nr_cubes=nr_cubes, overlap_perc=0.5))\n",
    "\n",
    "'''Visualize it'''\n",
    "plotlyviz(graph, color_function=distances.ravel(), dashboard=False, graph_data=False, title=str(section)) "
   ]
  },
  {
   "cell_type": "code",
   "execution_count": 54,
   "metadata": {
    "scrolled": false
   },
   "outputs": [
    {
     "data": {
      "application/vnd.jupyter.widget-view+json": {
       "model_id": "",
       "version_major": 2,
       "version_minor": 0
      },
      "text/plain": [
       "RmlndXJlV2lkZ2V0KHsKICAgICdkYXRhJzogW3snaG92ZXJpbmZvJzogJ25vbmUnLAogICAgICAgICAgICAgICdsaW5lJzogeydjb2xvcic6ICdyZ2IoMTgwLDE4MCwxODApJywgJ3dpZHRoJzrigKY=\n"
      ]
     },
     "metadata": {},
     "output_type": "display_data"
    }
   ],
   "source": [
    "'''Visualize it'''\n",
    "# html = mapper.visualize(graph, \n",
    "#                         path_html=section+\".UMAP.cubes\"+str(nr_cubes)+\".components\"+str(n_components)+\".rndstate\"+str(random_state)+\"_mapper_output.html\",\n",
    "#                         title=filename,\n",
    "#                         color_function=distances.ravel())\n",
    "\n",
    "# jupyter.display(path_html=section+\".UMAP.cubes\"+str(nr_cubes)+\".components\"+str(n_components)+\".rndstate\"+str(random_state)+\"_mapper_output.html\")\n",
    "\n",
    "plotlyviz(graph, color_function=distances.ravel(), dashboard=False, graph_data=False, title=str(section)) "
   ]
  },
  {
   "cell_type": "code",
   "execution_count": null,
   "metadata": {},
   "outputs": [],
   "source": []
  },
  {
   "cell_type": "code",
   "execution_count": 103,
   "metadata": {},
   "outputs": [],
   "source": [
    "from PIL import Image\n",
    "\n",
    "Image.MAX_IMAGE_PIXELS = None\n",
    "\n",
    "im = Image.open('/home/garner1/Work/dataset/SSF/prostate-twelve/images/P1_2.tiff')\n",
    "im.show()"
   ]
  },
  {
   "cell_type": "markdown",
   "metadata": {},
   "source": [
    " "
   ]
  }
 ],
 "metadata": {
  "kernelspec": {
   "display_name": "Python 2",
   "language": "python",
   "name": "python2"
  },
  "language_info": {
   "codemirror_mode": {
    "name": "ipython",
    "version": 2
   },
   "file_extension": ".py",
   "mimetype": "text/x-python",
   "name": "python",
   "nbconvert_exporter": "python",
   "pygments_lexer": "ipython2",
   "version": "2.7.14"
  }
 },
 "nbformat": 4,
 "nbformat_minor": 2
}
